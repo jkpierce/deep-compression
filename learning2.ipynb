{
 "cells": [
  {
   "cell_type": "code",
   "execution_count": 23,
   "metadata": {},
   "outputs": [],
   "source": [
    "import numpy as np\n",
    "%matplotlib inline\n",
    "import matplotlib.pyplot as plt\n",
    "plt.rcParams[\"figure.figsize\"] =(12,9)\n",
    "import os\n",
    "import copy\n",
    "from IPython.display import clear_output\n",
    "import torch\n",
    "from torchvision import transforms\n",
    "import torch.nn as nn\n",
    "import torch.utils.model_zoo as model_zoo\n",
    "from torch.utils.data import DataLoader,Subset\n",
    "from torch.autograd import Variable\n",
    "import PIL\n",
    "import torch.optim as optim\n",
    "import compression as comp"
   ]
  },
  {
   "cell_type": "code",
   "execution_count": 24,
   "metadata": {},
   "outputs": [
    {
     "name": "stdout",
     "output_type": "stream",
     "text": [
      "The autoreload extension is already loaded. To reload it, use:\n",
      "  %reload_ext autoreload\n"
     ]
    }
   ],
   "source": [
    "%load_ext autoreload\n",
    "%autoreload 2"
   ]
  },
  {
   "cell_type": "markdown",
   "metadata": {
    "scrolled": true
   },
   "source": [
    "# define the dataloader and load the data "
   ]
  },
  {
   "cell_type": "code",
   "execution_count": 31,
   "metadata": {},
   "outputs": [
    {
     "name": "stdout",
     "output_type": "stream",
     "text": [
      "data is loaded\n",
      "device is cuda:0\n"
     ]
    }
   ],
   "source": [
    "# initialize the dataloader and normalize the data \n",
    "class Dataset:\n",
    "    \"\"\"load the image / encoded object position representation pairs for training and testing data\"\"\"\n",
    "    def __init__(self, path, mode = 'train'):\n",
    "        self.path=path\n",
    "        self.mode=mode\n",
    "    def __getitem__(self, index):\n",
    "        mode = self.mode\n",
    "        if mode=='train':\n",
    "            fname = '/train-%05d.jpg'\n",
    "        elif mode=='test':\n",
    "            fname = '/test-%05d.jpg'\n",
    "            \n",
    "        if mode=='train':\n",
    "            fname1 = 'train-comp-%05d.npy'\n",
    "        elif mode=='test':\n",
    "            fname1 = 'test-comp-%05d.npy'\n",
    "        img = PIL.Image.open(self.path+fname%index)\n",
    "        vect = np.load(self.path+fname1%index)\n",
    "        transform = transforms.Compose([#transforms.Scale((227,227)),\n",
    "                                        transforms.ToTensor(),\n",
    "                                        #transforms.Normalize(mean=[0.5],std=[0.25])\n",
    "                                       ])\n",
    "        img = transform(img)\n",
    "        if mode=='train':\n",
    "            img.requires_grad=True\n",
    "        vect = torch.FloatTensor(np.concatenate(vect)) \n",
    "        return img, vect \n",
    "\n",
    "    def __len__(self):\n",
    "        return len([f for f in os.listdir(self.path) if f.endswith('.jpg')])\n",
    "\n",
    "# Initialize dataset iterators and find gpu if available \n",
    "train_data = Dataset('./data/training/',mode='train')\n",
    "test_data = Dataset('./data/testing/',mode='test')\n",
    "print('data is loaded')\n",
    "device = torch.device(\"cuda:0\" if torch.cuda.is_available() else \"cpu\")\n",
    "print('device is '+ str(device))"
   ]
  },
  {
   "cell_type": "markdown",
   "metadata": {},
   "source": [
    "# define the cnn"
   ]
  },
  {
   "cell_type": "code",
   "execution_count": 32,
   "metadata": {},
   "outputs": [],
   "source": [
    "class Net(nn.Module):\n",
    "    \"\"\" this is lenet adapted to the problem \"\"\"\n",
    "    def __init__(self):\n",
    "        super(Net, self).__init__()\n",
    "        self.convnet = nn.Sequential(\n",
    "            nn.Conv2d(1, 6, 7, 1),\n",
    "            nn.ReLU(inplace=True),\n",
    "            nn.MaxPool2d((2, 2), 2),\n",
    "            nn.Conv2d(6, 16, 5, 2),\n",
    "            nn.ReLU(inplace=True),\n",
    "            nn.MaxPool2d((2, 2), 2),\n",
    "            nn.Conv2d(16, 120, 5, 1),\n",
    "            nn.ReLU(inplace=True)\n",
    "                                    )\n",
    "        self.fc = nn.Sequential(\n",
    "            #nn.Dropout(),\n",
    "            nn.Linear(120*13**2, 5000),\n",
    "            nn.ReLU(),\n",
    "            #nn.Dropout(),\n",
    "            nn.Linear(5000, 500),\n",
    "                                )\n",
    "    def forward(self, img):\n",
    "        output = self.convnet(img)\n",
    "        output = output.view(-1, 120*13**2)\n",
    "        output = self.fc(output)\n",
    "        return output"
   ]
  },
  {
   "cell_type": "markdown",
   "metadata": {},
   "source": [
    "# train the network "
   ]
  },
  {
   "cell_type": "code",
   "execution_count": 33,
   "metadata": {},
   "outputs": [],
   "source": [
    "model = Net().to(device).train()"
   ]
  },
  {
   "cell_type": "code",
   "execution_count": null,
   "metadata": {
    "scrolled": true
   },
   "outputs": [
    {
     "name": "stdout",
     "output_type": "stream",
     "text": [
      "epoch  0  training loss:  43340.2\n",
      "model saved (early stop).  validation loss was  14039.9296875\n",
      "epoch  1  training loss:  9300.2\n",
      "epoch  2  training loss:  8512.22\n",
      "epoch  3  training loss:  8099.24\n"
     ]
    }
   ],
   "source": [
    "# initialize the model \n",
    "#model = Net().to(device).train()\n",
    "criterion = nn.MSELoss()\n",
    "optimizer = optim.Adam(model.parameters(), lr=0.01)\n",
    "scheduler = optim.lr_scheduler.ReduceLROnPlateau(optimizer,verbose=True)\n",
    "train_losses = []\n",
    "val_losses = []\n",
    "min_val_loss = 999999.9 # for early stopping \n",
    "\n",
    "# set up the training loop and dataset iterator \n",
    "k = 100 #size of batch \n",
    "N = 1000 #number epochs\n",
    "b = int(len(train_data)/k) #number of batches\n",
    "train_loader = DataLoader(train_data , batch_size = k, shuffle = True) #batch data loader\n",
    "test_loader = DataLoader(test_data, batch_size = k, shuffle = False)\n",
    "val_data = next(iter(test_loader))\n",
    "\n",
    "# train the network N epochs through the dataset \n",
    "for epoch in range(N): # epoch iterator \n",
    "    epoch_loss = 0 # mean loss per epoch \n",
    "    # minibatch training \n",
    "    for i, (inputs, targets) in enumerate(train_loader): # batch iterator \n",
    "        inputs, targets = inputs.to(device), targets.to(device) # batch to gpu\n",
    "        optimizer.zero_grad() # zero gradients\n",
    "        outputs = model(inputs) # model prediction\n",
    "        loss = criterion(outputs, targets)  # loss computation\n",
    "        loss.backward() # backpropagation\n",
    "        optimizer.step() # gradient descent \n",
    "        epoch_loss+=loss.cpu().data.item() # pull the batch losses \n",
    "    epoch_loss /= i\n",
    "    print('epoch ', epoch, ' training loss: ',round(epoch_loss,2)) # print epoch loss\n",
    "    train_losses.append(epoch_loss)\n",
    "    scheduler.step(epoch_loss) # possibly modify the learning rate \n",
    "    \n",
    "    if epoch%5==0:  # early stopping \n",
    "        # calculate the validation loss over a batch \n",
    "        inputs, targets = val_data\n",
    "        inputs, targets = inputs.to(device), targets.to(device) # batch to gpu\n",
    "        outputs = model(inputs) # model prediction\n",
    "        loss = criterion(outputs, targets)\n",
    "        val_loss = loss.cpu().data.item()\n",
    "        val_losses.append(val_loss)\n",
    "        if val_loss < min_val_loss:\n",
    "            min_val_loss = val_loss \n",
    "            torch.save(model.state_dict(),'earlystop.pt') # save partially trained model \n",
    "            print('model saved (early stop). ', 'validation loss was ', min_val_loss)\n",
    "        else:\n",
    "            print('model not saved. validation loss was ', val_loss)"
   ]
  },
  {
   "cell_type": "code",
   "execution_count": 22,
   "metadata": {
    "scrolled": false
   },
   "outputs": [
    {
     "data": {
      "text/plain": [
       "Text(0,0.5,'loss')"
      ]
     },
     "execution_count": 22,
     "metadata": {},
     "output_type": "execute_result"
    },
    {
     "data": {
      "image/png": "[encoded data removed]",
      "text/plain": [
       "<Figure size 432x288 with 1 Axes>"
      ]
     },
     "metadata": {
      "needs_background": "light"
     },
     "output_type": "display_data"
    }
   ],
   "source": [
    "plt.plot(range(0,5*len(val_losses),5),val_losses,color='blue')\n",
    "plt.plot(range(len(train_losses)),train_losses,color='red')\n",
    "plt.xlabel('epoch')\n",
    "plt.ylabel('loss')"
   ]
  },
  {
   "cell_type": "markdown",
   "metadata": {},
   "source": [
    "# diagnose output by decompression / visualization "
   ]
  },
  {
   "cell_type": "code",
   "execution_count": null,
   "metadata": {},
   "outputs": [],
   "source": [
    "model.state_dict() = torch.load('trained.pt')\n",
    "model.eval()"
   ]
  },
  {
   "cell_type": "code",
   "execution_count": null,
   "metadata": {},
   "outputs": [],
   "source": [
    "test_loader = DataLoader(test_data , batch_size = k, shuffle = True) #batch data loader\n",
    "for i,(x,y) in enumerate(test_loader):\n",
    "    break\n",
    "y_ = model(x.to(device)).cpu().detach().numpy()\n",
    "y = y.numpy()"
   ]
  },
  {
   "cell_type": "code",
   "execution_count": null,
   "metadata": {
    "scrolled": true
   },
   "outputs": [],
   "source": [
    "for n in range(3):\n",
    "    plt.plot(y[n],'x')\n",
    "    plt.plot(y_[n],'o')\n",
    "    plt.show()"
   ]
  },
  {
   "cell_type": "code",
   "execution_count": null,
   "metadata": {},
   "outputs": [],
   "source": [
    "S = np.load('./data/sensing_matrix.npy')\n",
    "shape = x[0].numpy().shape[1:]\n",
    "_,M = shape\n",
    "N = 100\n",
    "L = 5"
   ]
  },
  {
   "cell_type": "code",
   "execution_count": null,
   "metadata": {},
   "outputs": [],
   "source": [
    "Y = y_[0]\n",
    "Y = Y.reshape(L,N)"
   ]
  },
  {
   "cell_type": "code",
   "execution_count": null,
   "metadata": {
    "scrolled": true
   },
   "outputs": [],
   "source": [
    "pts = comp.unproject(F,shape,5,M)"
   ]
  },
  {
   "cell_type": "code",
   "execution_count": null,
   "metadata": {
    "scrolled": true
   },
   "outputs": [],
   "source": [
    "im = x[0].numpy().squeeze()\n",
    "for p in pts:\n",
    "    im = comp.draw_plus(p,im)\n",
    "plt.imshow(im,cmap='gray')"
   ]
  },
  {
   "cell_type": "code",
   "execution_count": null,
   "metadata": {},
   "outputs": [],
   "source": [
    "mask = (pts.T[0]>0)&(pts.T[0]<150)&(pts.T[1]>0)&(pts.T[1]<150)\n",
    "np.where(mask)"
   ]
  },
  {
   "cell_type": "code",
   "execution_count": null,
   "metadata": {},
   "outputs": [],
   "source": []
  }
 ],
 "metadata": {
  "kernelspec": {
   "display_name": "Python 3",
   "language": "python",
   "name": "python3"
  },
  "language_info": {
   "codemirror_mode": {
    "name": "ipython",
    "version": 3
   },
   "file_extension": ".py",
   "mimetype": "text/x-python",
   "name": "python",
   "nbconvert_exporter": "python",
   "pygments_lexer": "ipython3",
   "version": "3.6.6"
  }
 },
 "nbformat": 4,
 "nbformat_minor": 2
}
