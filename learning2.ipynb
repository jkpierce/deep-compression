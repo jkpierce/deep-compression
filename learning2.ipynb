{
 "cells": [
  {
   "cell_type": "code",
   "execution_count": null,
   "metadata": {},
   "outputs": [],
   "source": [
    "import numpy as np\n",
    "%matplotlib inline\n",
    "import matplotlib.pyplot as plt\n",
    "plt.rcParams[\"figure.figsize\"] =(12,9)\n",
    "import os\n",
    "import copy\n",
    "from IPython.display import clear_output\n",
    "import torch\n",
    "from torchvision import transforms\n",
    "import torch.nn as nn\n",
    "import torch.utils.model_zoo as model_zoo\n",
    "from torch.utils.data import DataLoader\n",
    "from torch.autograd import Variable\n",
    "import PIL\n",
    "import torch.optim as optim"
   ]
  },
  {
   "cell_type": "code",
   "execution_count": 2,
   "metadata": {
    "scrolled": true
   },
   "outputs": [
    {
     "name": "stdout",
     "output_type": "stream",
     "text": [
      "data is loaded\n",
      "device is cpu\n"
     ]
    }
   ],
   "source": [
    "# initialize the dataloader and normalize the data \n",
    "class Dataset:\n",
    "    \"\"\"load the image / encoded object position representation pairs for training and testing data\"\"\"\n",
    "    def __init__(self, path, mode = 'train'):\n",
    "        self.path=path\n",
    "        self.mode=mode\n",
    "    def __getitem__(self, index):\n",
    "        mode = self.mode\n",
    "        if mode=='train':\n",
    "            fname = '/train-%04d.jpg'\n",
    "        elif mode=='test':\n",
    "            fname = '/test-%04d.jpg'\n",
    "            \n",
    "        if mode=='train':\n",
    "            fname1 = 'train-comp-%04d.npy'\n",
    "        elif mode=='test':\n",
    "            fname1 = 'test-comp-%04d.npy'\n",
    "        img = PIL.Image.open(self.path+fname%index)\n",
    "        vect = np.load(self.path+fname1%index)\n",
    "        transform = transforms.Compose([#transforms.Scale((227,227)),\n",
    "                                        transforms.ToTensor(),\n",
    "                                        #transforms.Normalize(mean=[0.5],std=[0.25])\n",
    "                                       ])\n",
    "        img = transform(img)\n",
    "        if mode=='train':\n",
    "            img.requires_grad=True\n",
    "        vect = torch.FloatTensor(np.concatenate(vect)) \n",
    "        return img, vect \n",
    "\n",
    "    def __len__(self):\n",
    "        return len([f for f in os.listdir(self.path) if f.endswith('.jpg')])\n",
    "\n",
    "# Initialize dataset iterators and find gpu if available \n",
    "train_data = Dataset('./data/training/',mode='train')\n",
    "test_data = Dataset('./data/testing/',mode='test')\n",
    "print('data is loaded')\n",
    "device = torch.device(\"cuda:0\" if torch.cuda.is_available() else \"cpu\")\n",
    "print('device is '+ str(device))"
   ]
  },
  {
   "cell_type": "code",
   "execution_count": 18,
   "metadata": {},
   "outputs": [],
   "source": [
    "class Net(nn.Module):\n",
    "    \"\"\" this is lenet adapted to the problem \"\"\"\n",
    "    def __init__(self):\n",
    "        super(Net, self).__init__()\n",
    "        self.convnet = nn.Sequential(\n",
    "            nn.Conv2d(1, 6, 7, 1),\n",
    "            nn.ReLU(inplace=True),\n",
    "            nn.MaxPool2d((2, 2), 2),\n",
    "            nn.Conv2d(6, 16, 5, 2),\n",
    "            nn.ReLU(inplace=True),\n",
    "            nn.MaxPool2d((2, 2), 2),\n",
    "            nn.Conv2d(16, 120, 5, 1),\n",
    "            nn.ReLU(inplace=True)\n",
    "                                    )\n",
    "        self.fc = nn.Sequential(\n",
    "            nn.Linear(120*13**2, 5000),\n",
    "            nn.ReLU(),\n",
    "            nn.Linear(5000, 500),\n",
    "                                )\n",
    "    def forward(self, img):\n",
    "        output = self.convnet(img)\n",
    "        output = output.view(-1, 120*13**2)\n",
    "        output = self.fc(output)\n",
    "        return output"
   ]
  },
  {
   "cell_type": "code",
   "execution_count": 26,
   "metadata": {
    "collapsed": true
   },
   "outputs": [],
   "source": [
    "model = Net().to(device).train()"
   ]
  },
  {
   "cell_type": "code",
   "execution_count": 27,
   "metadata": {
    "scrolled": true
   },
   "outputs": [
    {
     "name": "stdout",
     "output_type": "stream",
     "text": [
      "epoch loss:  457036.04\n",
      "epoch loss:  381344.06\n",
      "epoch loss:  152560.11\n",
      "epoch loss:  114521.01\n",
      "epoch loss:  102481.54\n",
      "epoch loss:  76750.71\n",
      "epoch loss:  67106.5\n",
      "epoch loss:  50579.29\n",
      "epoch loss:  47053.96\n",
      "epoch loss:  40982.19\n",
      "epoch loss:  36261.44\n",
      "epoch loss:  34123.05\n",
      "epoch loss:  33033.52\n",
      "epoch loss:  31928.17\n",
      "epoch loss:  31023.7\n",
      "epoch loss:  30534.11\n",
      "epoch loss:  29769.26\n",
      "epoch loss:  28976.41\n",
      "epoch loss:  28260.13\n",
      "epoch loss:  27563.08\n",
      "epoch loss:  26804.57\n",
      "epoch loss:  25624.59\n",
      "epoch loss:  24736.27\n",
      "epoch loss:  23970.75\n",
      "epoch loss:  23230.22\n",
      "epoch loss:  22745.13\n",
      "epoch loss:  22032.01\n",
      "epoch loss:  21648.23\n",
      "epoch loss:  21155.74\n",
      "epoch loss:  20829.88\n",
      "epoch loss:  20477.07\n",
      "epoch loss:  20246.27\n",
      "epoch loss:  20004.05\n",
      "epoch loss:  19970.47\n",
      "epoch loss:  19694.88\n",
      "epoch loss:  19483.43\n",
      "epoch loss:  19593.57\n",
      "epoch loss:  19189.34\n",
      "epoch loss:  19471.2\n",
      "epoch loss:  19006.5\n",
      "epoch loss:  18692.39\n",
      "epoch loss:  18502.38\n",
      "epoch loss:  18534.54\n",
      "epoch loss:  18404.55\n",
      "epoch loss:  18519.74\n",
      "epoch loss:  18797.55\n",
      "epoch loss:  18249.08\n"
     ]
    },
    {
     "ename": "KeyboardInterrupt",
     "evalue": "",
     "output_type": "error",
     "traceback": [
      "\u001b[0;31m---------------------------------------------------------------------------\u001b[0m",
      "\u001b[0;31mKeyboardInterrupt\u001b[0m                         Traceback (most recent call last)",
      "\u001b[0;32m<ipython-input-27-ba129fcf2e32>\u001b[0m in \u001b[0;36m<module>\u001b[0;34m()\u001b[0m\n\u001b[1;32m     20\u001b[0m         \u001b[0moutputs\u001b[0m \u001b[0;34m=\u001b[0m \u001b[0mmodel\u001b[0m\u001b[0;34m(\u001b[0m\u001b[0minputs\u001b[0m\u001b[0;34m)\u001b[0m \u001b[0;31m# model prediction\u001b[0m\u001b[0;34m\u001b[0m\u001b[0m\n\u001b[1;32m     21\u001b[0m         \u001b[0mloss\u001b[0m \u001b[0;34m=\u001b[0m \u001b[0mcriterion\u001b[0m\u001b[0;34m(\u001b[0m\u001b[0moutputs\u001b[0m\u001b[0;34m,\u001b[0m\u001b[0mtargets\u001b[0m\u001b[0;34m)\u001b[0m  \u001b[0;31m# loss computation\u001b[0m\u001b[0;34m\u001b[0m\u001b[0m\n\u001b[0;32m---> 22\u001b[0;31m         \u001b[0mloss\u001b[0m\u001b[0;34m.\u001b[0m\u001b[0mbackward\u001b[0m\u001b[0;34m(\u001b[0m\u001b[0;34m)\u001b[0m \u001b[0;31m# backpropagation\u001b[0m\u001b[0;34m\u001b[0m\u001b[0m\n\u001b[0m\u001b[1;32m     23\u001b[0m         \u001b[0moptimizer\u001b[0m\u001b[0;34m.\u001b[0m\u001b[0mstep\u001b[0m\u001b[0;34m(\u001b[0m\u001b[0;34m)\u001b[0m \u001b[0;31m# gradient descent\u001b[0m\u001b[0;34m\u001b[0m\u001b[0m\n\u001b[1;32m     24\u001b[0m         \u001b[0mepoch_loss\u001b[0m\u001b[0;34m+=\u001b[0m\u001b[0mloss\u001b[0m\u001b[0;34m.\u001b[0m\u001b[0mcpu\u001b[0m\u001b[0;34m(\u001b[0m\u001b[0;34m)\u001b[0m\u001b[0;34m.\u001b[0m\u001b[0mdata\u001b[0m\u001b[0;34m.\u001b[0m\u001b[0mitem\u001b[0m\u001b[0;34m(\u001b[0m\u001b[0;34m)\u001b[0m \u001b[0;31m# pull the batch losses\u001b[0m\u001b[0;34m\u001b[0m\u001b[0m\n",
      "\u001b[0;32m~/anaconda3/lib/python3.6/site-packages/torch/tensor.py\u001b[0m in \u001b[0;36mbackward\u001b[0;34m(self, gradient, retain_graph, create_graph)\u001b[0m\n\u001b[1;32m     91\u001b[0m                 \u001b[0mproducts\u001b[0m\u001b[0;34m.\u001b[0m \u001b[0mDefaults\u001b[0m \u001b[0mto\u001b[0m\u001b[0;31m \u001b[0m\u001b[0;31m`\u001b[0m\u001b[0;31m`\u001b[0m\u001b[0;32mFalse\u001b[0m\u001b[0;31m`\u001b[0m\u001b[0;31m`\u001b[0m\u001b[0;34m.\u001b[0m\u001b[0;34m\u001b[0m\u001b[0m\n\u001b[1;32m     92\u001b[0m         \"\"\"\n\u001b[0;32m---> 93\u001b[0;31m         \u001b[0mtorch\u001b[0m\u001b[0;34m.\u001b[0m\u001b[0mautograd\u001b[0m\u001b[0;34m.\u001b[0m\u001b[0mbackward\u001b[0m\u001b[0;34m(\u001b[0m\u001b[0mself\u001b[0m\u001b[0;34m,\u001b[0m \u001b[0mgradient\u001b[0m\u001b[0;34m,\u001b[0m \u001b[0mretain_graph\u001b[0m\u001b[0;34m,\u001b[0m \u001b[0mcreate_graph\u001b[0m\u001b[0;34m)\u001b[0m\u001b[0;34m\u001b[0m\u001b[0m\n\u001b[0m\u001b[1;32m     94\u001b[0m \u001b[0;34m\u001b[0m\u001b[0m\n\u001b[1;32m     95\u001b[0m     \u001b[0;32mdef\u001b[0m \u001b[0mregister_hook\u001b[0m\u001b[0;34m(\u001b[0m\u001b[0mself\u001b[0m\u001b[0;34m,\u001b[0m \u001b[0mhook\u001b[0m\u001b[0;34m)\u001b[0m\u001b[0;34m:\u001b[0m\u001b[0;34m\u001b[0m\u001b[0m\n",
      "\u001b[0;32m~/anaconda3/lib/python3.6/site-packages/torch/autograd/__init__.py\u001b[0m in \u001b[0;36mbackward\u001b[0;34m(tensors, grad_tensors, retain_graph, create_graph, grad_variables)\u001b[0m\n\u001b[1;32m     88\u001b[0m     Variable._execution_engine.run_backward(\n\u001b[1;32m     89\u001b[0m         \u001b[0mtensors\u001b[0m\u001b[0;34m,\u001b[0m \u001b[0mgrad_tensors\u001b[0m\u001b[0;34m,\u001b[0m \u001b[0mretain_graph\u001b[0m\u001b[0;34m,\u001b[0m \u001b[0mcreate_graph\u001b[0m\u001b[0;34m,\u001b[0m\u001b[0;34m\u001b[0m\u001b[0m\n\u001b[0;32m---> 90\u001b[0;31m         allow_unreachable=True)  # allow_unreachable flag\n\u001b[0m\u001b[1;32m     91\u001b[0m \u001b[0;34m\u001b[0m\u001b[0m\n\u001b[1;32m     92\u001b[0m \u001b[0;34m\u001b[0m\u001b[0m\n",
      "\u001b[0;31mKeyboardInterrupt\u001b[0m: "
     ]
    }
   ],
   "source": [
    "# initialize the model \n",
    "#model = Net().to(device).train()\n",
    "criterion = nn.MSELoss()\n",
    "optimizer = optim.Adam(model.parameters(), lr=0.001)\n",
    "scheduler = optim.lr_scheduler.ReduceLROnPlateau(optimizer,verbose=True)\n",
    "losses = []\n",
    "\n",
    "# set up the training loop and dataset iterator \n",
    "k = 250 #size of batch \n",
    "N = 500 #number epochs\n",
    "b = int(len(train_data)/k) #number of batches\n",
    "train_loader = DataLoader(train_data , batch_size = k, shuffle = True) #batch data loader\n",
    "\n",
    "# train the network \n",
    "for epoch in range(N): # epoch iterator \n",
    "    epoch_loss = 0 # mean loss per epoch \n",
    "    for i, (inputs, targets) in enumerate(train_loader): # batch iterator \n",
    "        inputs, targets = inputs.to(device), targets.to(device) # batch to gpu\n",
    "        optimizer.zero_grad() # zero gradients\n",
    "        outputs = model(inputs) # model prediction\n",
    "        loss = criterion(outputs,targets)  # loss computation\n",
    "        loss.backward() # backpropagation\n",
    "        optimizer.step() # gradient descent \n",
    "        epoch_loss+=loss.cpu().data.item() # pull the batch losses \n",
    "    epoch_loss /= i\n",
    "    print('epoch loss: ',round(epoch_loss,2)) # print/store loss\n",
    "    if epoch%10==0 and epoch!=0:     \n",
    "        n = epoch\n",
    "        #torch.save(model,'./partial-trains/%04d-epochs.pt'%n) # save partially trained model \n",
    "    losses.append(epoch_loss) # keep the losses \n",
    "scheduler.step(epoch_loss) # possibly modify the learning rate "
   ]
  },
  {
   "cell_type": "code",
   "execution_count": null,
   "metadata": {},
   "outputs": [],
   "source": [
    "plt.plot(losses)"
   ]
  },
  {
   "cell_type": "code",
   "execution_count": 29,
   "metadata": {},
   "outputs": [
    {
     "data": {
      "text/plain": [
       "tensor(1., grad_fn=<MaxBackward1>)"
      ]
     },
     "execution_count": 29,
     "metadata": {},
     "output_type": "execute_result"
    }
   ],
   "source": [
    "x.max()"
   ]
  },
  {
   "cell_type": "code",
   "execution_count": 37,
   "metadata": {},
   "outputs": [],
   "source": [
    "x,y = train_data[0]"
   ]
  },
  {
   "cell_type": "code",
   "execution_count": 38,
   "metadata": {},
   "outputs": [
    {
     "data": {
      "text/plain": [
       "tensor([[-1., -1., -1.,  ..., -1., -1., -1.],\n",
       "        [-1., -1., -1.,  ..., -1., -1., -1.],\n",
       "        [-1., -1., -1.,  ..., -1., -1., -1.],\n",
       "        ...,\n",
       "        [-1., -1., -1.,  ..., -1., -1., -1.],\n",
       "        [-1., -1., -1.,  ..., -1., -1., -1.],\n",
       "        [-1., -1., -1.,  ..., -1., -1., -1.]])"
      ]
     },
     "execution_count": 38,
     "metadata": {},
     "output_type": "execute_result"
    }
   ],
   "source": [
    "transforms.Normalize((0.5, ), (0.5, ))(x).squeeze().detach()"
   ]
  },
  {
   "cell_type": "code",
   "execution_count": null,
   "metadata": {
    "collapsed": true
   },
   "outputs": [],
   "source": []
  }
 ],
 "metadata": {
  "kernelspec": {
   "display_name": "Python [conda env:anaconda3]",
   "language": "python",
   "name": "conda-env-anaconda3-py"
  },
  "language_info": {
   "codemirror_mode": {
    "name": "ipython",
    "version": 3
   },
   "file_extension": ".py",
   "mimetype": "text/x-python",
   "name": "python",
   "nbconvert_exporter": "python",
   "pygments_lexer": "ipython3",
   "version": "3.6.6"
  }
 },
 "nbformat": 4,
 "nbformat_minor": 2
}
