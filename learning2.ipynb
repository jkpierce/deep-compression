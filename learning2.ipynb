{
 "cells": [
  {
   "cell_type": "code",
   "execution_count": 1,
   "metadata": {},
   "outputs": [],
   "source": [
    "import numpy as np\n",
    "%matplotlib inline\n",
    "import matplotlib.pyplot as plt\n",
    "plt.rcParams[\"figure.figsize\"] =(12,9)\n",
    "import os\n",
    "import copy\n",
    "from IPython.display import clear_output\n",
    "import torch\n",
    "from torchvision import transforms\n",
    "import torch.nn as nn\n",
    "import torch.utils.model_zoo as model_zoo\n",
    "from torch.utils.data import DataLoader,Subset\n",
    "from torch.autograd import Variable\n",
    "import PIL\n",
    "import torch.optim as optim\n",
    "import compression as comp"
   ]
  },
  {
   "cell_type": "code",
   "execution_count": 2,
   "metadata": {},
   "outputs": [],
   "source": [
    "%load_ext autoreload\n",
    "%autoreload 2"
   ]
  },
  {
   "cell_type": "markdown",
   "metadata": {
    "scrolled": true
   },
   "source": [
    "# define the dataloader and load the data "
   ]
  },
  {
   "cell_type": "code",
   "execution_count": 3,
   "metadata": {},
   "outputs": [
    {
     "name": "stdout",
     "output_type": "stream",
     "text": [
      "data is loaded\n",
      "device is cuda:0\n"
     ]
    }
   ],
   "source": [
    "# initialize the dataloader and normalize the data \n",
    "class Dataset:\n",
    "    \"\"\"load the image / encoded object position representation pairs for training and testing data\"\"\"\n",
    "    def __init__(self, path, mode = 'train'):\n",
    "        self.path=path\n",
    "        self.mode=mode\n",
    "    def __getitem__(self, index):\n",
    "        mode = self.mode\n",
    "        if mode=='train':\n",
    "            fname = '/train-%04d.jpg'\n",
    "        elif mode=='test':\n",
    "            fname = '/test-%04d.jpg'\n",
    "            \n",
    "        if mode=='train':\n",
    "            fname1 = 'train-comp-%04d.npy'\n",
    "        elif mode=='test':\n",
    "            fname1 = 'test-comp-%04d.npy'\n",
    "        img = PIL.Image.open(self.path+fname%index)\n",
    "        vect = np.load(self.path+fname1%index)\n",
    "        transform = transforms.Compose([#transforms.Scale((227,227)),\n",
    "                                        transforms.ToTensor(),\n",
    "                                        #transforms.Normalize(mean=[0.5],std=[0.25])\n",
    "                                       ])\n",
    "        img = transform(img)\n",
    "        if mode=='train':\n",
    "            img.requires_grad=True\n",
    "        vect = torch.FloatTensor(np.concatenate(vect)) \n",
    "        return img, vect \n",
    "\n",
    "    def __len__(self):\n",
    "        return len([f for f in os.listdir(self.path) if f.endswith('.jpg')])\n",
    "\n",
    "# Initialize dataset iterators and find gpu if available \n",
    "train_data = Dataset('./data/training/',mode='train')\n",
    "test_data = Dataset('./data/testing/',mode='test')\n",
    "print('data is loaded')\n",
    "device = torch.device(\"cuda:0\" if torch.cuda.is_available() else \"cpu\")\n",
    "print('device is '+ str(device))"
   ]
  },
  {
   "cell_type": "markdown",
   "metadata": {},
   "source": [
    "# define the cnn"
   ]
  },
  {
   "cell_type": "code",
   "execution_count": 4,
   "metadata": {},
   "outputs": [],
   "source": [
    "class Net(nn.Module):\n",
    "    \"\"\" this is lenet adapted to the problem \"\"\"\n",
    "    def __init__(self):\n",
    "        super(Net, self).__init__()\n",
    "        self.convnet = nn.Sequential(\n",
    "            nn.Conv2d(1, 6, 7, 1),\n",
    "            nn.ReLU(inplace=True),\n",
    "            nn.MaxPool2d((2, 2), 2),\n",
    "            nn.Conv2d(6, 16, 5, 2),\n",
    "            nn.ReLU(inplace=True),\n",
    "            nn.MaxPool2d((2, 2), 2),\n",
    "            nn.Conv2d(16, 120, 5, 1),\n",
    "            nn.ReLU(inplace=True)\n",
    "                                    )\n",
    "        self.fc = nn.Sequential(\n",
    "            nn.Dropout(),\n",
    "            nn.Linear(120*13**2, 5000),\n",
    "            nn.ReLU(),\n",
    "            nn.Dropout(),\n",
    "            nn.Linear(5000, 500),\n",
    "                                )\n",
    "    def forward(self, img):\n",
    "        output = self.convnet(img)\n",
    "        output = output.view(-1, 120*13**2)\n",
    "        output = self.fc(output)\n",
    "        return output"
   ]
  },
  {
   "cell_type": "markdown",
   "metadata": {},
   "source": [
    "# train the network "
   ]
  },
  {
   "cell_type": "code",
   "execution_count": 5,
   "metadata": {},
   "outputs": [],
   "source": [
    "model = Net().to(device).train()"
   ]
  },
  {
   "cell_type": "code",
   "execution_count": null,
   "metadata": {
    "scrolled": false
   },
   "outputs": [
    {
     "name": "stdout",
     "output_type": "stream",
     "text": [
      "epoch  0  training loss:  26802.91\n",
      "model saved (early stop).  validation loss was  18396.19140625\n",
      "epoch  1  training loss:  20399.82\n",
      "epoch  2  training loss:  17334.48\n",
      "epoch  3  training loss:  15507.61\n",
      "epoch  4  training loss:  14665.39\n",
      "epoch  5  training loss:  14011.73\n",
      "model saved (early stop).  validation loss was  12001.4375\n",
      "epoch  6  training loss:  14031.34\n",
      "epoch  7  training loss:  13587.22\n",
      "epoch  8  training loss:  12956.25\n",
      "epoch  9  training loss:  12732.63\n",
      "epoch  10  training loss:  12691.63\n",
      "model saved (early stop).  validation loss was  10736.548828125\n",
      "epoch  11  training loss:  12669.66\n",
      "epoch  12  training loss:  12699.46\n",
      "epoch  13  training loss:  12246.76\n",
      "epoch  14  training loss:  12414.03\n",
      "epoch  15  training loss:  12151.74\n",
      "model saved (early stop).  validation loss was  10665.6552734375\n",
      "epoch  16  training loss:  12078.1\n",
      "epoch  17  training loss:  11961.72\n",
      "epoch  18  training loss:  11983.08\n",
      "epoch  19  training loss:  11829.01\n",
      "epoch  20  training loss:  12004.8\n",
      "model saved (early stop).  validation loss was  10125.8525390625\n",
      "epoch  21  training loss:  11822.08\n",
      "epoch  22  training loss:  11703.19\n",
      "epoch  23  training loss:  11806.57\n",
      "epoch  24  training loss:  11653.94\n",
      "epoch  25  training loss:  11555.86\n",
      "model saved (early stop).  validation loss was  9671.4501953125\n",
      "epoch  26  training loss:  11822.84\n",
      "epoch  27  training loss:  11495.52\n",
      "epoch  28  training loss:  11465.02\n",
      "epoch  29  training loss:  11527.11\n",
      "epoch  30  training loss:  11557.43\n",
      "model saved (early stop).  validation loss was  9608.9677734375\n",
      "epoch  31  training loss:  11528.9\n",
      "epoch  32  training loss:  11432.9\n",
      "epoch  33  training loss:  11314.72\n",
      "epoch  34  training loss:  11405.16\n",
      "epoch  35  training loss:  11987.96\n",
      "model not saved. validation loss was  9767.302734375\n",
      "epoch  36  training loss:  11246.74\n",
      "epoch  37  training loss:  11338.02\n",
      "epoch  38  training loss:  11350.45\n",
      "epoch  39  training loss:  11196.09\n",
      "epoch  40  training loss:  11125.29\n",
      "model not saved. validation loss was  9647.412109375\n",
      "epoch  41  training loss:  11154.73\n",
      "epoch  42  training loss:  11116.23\n",
      "epoch  43  training loss:  11198.35\n",
      "epoch  44  training loss:  11051.51\n",
      "epoch  45  training loss:  11040.98\n",
      "model saved (early stop).  validation loss was  9453.703125\n",
      "epoch  46  training loss:  11179.45\n",
      "epoch  47  training loss:  11016.12\n",
      "epoch  48  training loss:  11047.2\n",
      "epoch  49  training loss:  10942.7\n",
      "epoch  50  training loss:  10970.6\n",
      "model not saved. validation loss was  9642.5322265625\n",
      "epoch  51  training loss:  11248.31\n"
     ]
    }
   ],
   "source": [
    "# initialize the model \n",
    "#model = Net().to(device).train()\n",
    "criterion = nn.MSELoss()\n",
    "optimizer = optim.Adam(model.parameters(), lr=0.001)\n",
    "scheduler = optim.lr_scheduler.ReduceLROnPlateau(optimizer,verbose=True)\n",
    "train_losses = []\n",
    "val_losses = []\n",
    "min_val_loss = 999999.9 # for early stopping \n",
    "\n",
    "# set up the training loop and dataset iterator \n",
    "k = 100 #size of batch \n",
    "N = 500 #number epochs\n",
    "b = int(len(train_data)/k) #number of batches\n",
    "train_loader = DataLoader(train_data , batch_size = k, shuffle = True) #batch data loader\n",
    "test_loader = DataLoader(test_data, batch_size = k, shuffle = False)\n",
    "val_data = next(iter(test_loader))\n",
    "\n",
    "# train the network N epochs through the dataset \n",
    "for epoch in range(N): # epoch iterator \n",
    "    epoch_loss = 0 # mean loss per epoch \n",
    "    # minibatch training \n",
    "    for i, (inputs, targets) in enumerate(train_loader): # batch iterator \n",
    "        inputs, targets = inputs.to(device), targets.to(device) # batch to gpu\n",
    "        optimizer.zero_grad() # zero gradients\n",
    "        outputs = model(inputs) # model prediction\n",
    "        loss = criterion(outputs, targets)  # loss computation\n",
    "        loss.backward() # backpropagation\n",
    "        optimizer.step() # gradient descent \n",
    "        epoch_loss+=loss.cpu().data.item() # pull the batch losses \n",
    "    epoch_loss /= i\n",
    "    print('epoch ', epoch, ' training loss: ',round(epoch_loss,2)) # print epoch loss\n",
    "    train_losses.append(epoch_loss)\n",
    "    scheduler.step(epoch_loss) # possibly modify the learning rate \n",
    "    \n",
    "    if epoch%5==0:  # early stopping \n",
    "        # calculate the validation loss over a batch \n",
    "        inputs, targets = val_data\n",
    "        inputs, targets = inputs.to(device), targets.to(device) # batch to gpu\n",
    "        outputs = model(inputs) # model prediction\n",
    "        loss = criterion(outputs, targets)\n",
    "        val_loss = loss.cpu().data.item()\n",
    "        val_losses.append(val_loss)\n",
    "        if val_loss < min_val_loss:\n",
    "            min_val_loss = val_loss \n",
    "            torch.save(model.state_dict(),'earlystop.pt') # save partially trained model \n",
    "            print('model saved (early stop). ', 'validation loss was ', min_val_loss)\n",
    "        else:\n",
    "            print('model not saved. validation loss was ', val_loss)"
   ]
  },
  {
   "cell_type": "code",
   "execution_count": null,
   "metadata": {},
   "outputs": [],
   "source": [
    "plt.plot(val_losses,color='blue')\n",
    "plt.plot(train_losses,color='red')"
   ]
  },
  {
   "cell_type": "code",
   "execution_count": null,
   "metadata": {},
   "outputs": [],
   "source": [
    "model.state_dict() = torch.load('trained.pt')\n",
    "model.eval()"
   ]
  },
  {
   "cell_type": "code",
   "execution_count": null,
   "metadata": {},
   "outputs": [],
   "source": [
    "test_loader = DataLoader(test_data , batch_size = k, shuffle = True) #batch data loader\n",
    "for i,(x,y) in enumerate(test_loader):\n",
    "    break\n",
    "y_ = model(x.to(device)).cpu().detach().numpy()\n",
    "y = y.numpy()"
   ]
  },
  {
   "cell_type": "code",
   "execution_count": null,
   "metadata": {
    "scrolled": true
   },
   "outputs": [],
   "source": [
    "for n in range(3):\n",
    "    plt.plot(y[n],'x')\n",
    "    plt.plot(y_[n],'o')\n",
    "    plt.show()"
   ]
  },
  {
   "cell_type": "code",
   "execution_count": null,
   "metadata": {},
   "outputs": [],
   "source": [
    "S = np.load('./data/sensing_matrix.npy')\n",
    "shape = x[0].numpy().shape[1:]\n",
    "_,M = shape\n",
    "N = 100\n",
    "L = 5"
   ]
  },
  {
   "cell_type": "code",
   "execution_count": null,
   "metadata": {},
   "outputs": [],
   "source": [
    "Y = y_[0]\n",
    "Y = Y.reshape(L,N)"
   ]
  },
  {
   "cell_type": "code",
   "execution_count": null,
   "metadata": {
    "scrolled": true
   },
   "outputs": [],
   "source": [
    "pts = comp.unproject(F,shape,5,M)"
   ]
  },
  {
   "cell_type": "code",
   "execution_count": null,
   "metadata": {
    "scrolled": true
   },
   "outputs": [],
   "source": [
    "im = x[0].numpy().squeeze()\n",
    "for p in pts:\n",
    "    im = comp.draw_plus(p,im)\n",
    "plt.imshow(im,cmap='gray')"
   ]
  },
  {
   "cell_type": "code",
   "execution_count": null,
   "metadata": {},
   "outputs": [],
   "source": [
    "mask = (pts.T[0]>0)&(pts.T[0]<150)&(pts.T[1]>0)&(pts.T[1]<150)\n",
    "np.where(mask)"
   ]
  },
  {
   "cell_type": "code",
   "execution_count": null,
   "metadata": {},
   "outputs": [],
   "source": []
  }
 ],
 "metadata": {
  "kernelspec": {
   "display_name": "Python 3",
   "language": "python",
   "name": "python3"
  },
  "language_info": {
   "codemirror_mode": {
    "name": "ipython",
    "version": 3
   },
   "file_extension": ".py",
   "mimetype": "text/x-python",
   "name": "python",
   "nbconvert_exporter": "python",
   "pygments_lexer": "ipython3",
   "version": "3.6.6"
  }
 },
 "nbformat": 4,
 "nbformat_minor": 2
}
